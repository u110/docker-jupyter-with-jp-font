{
 "cells": [
  {
   "cell_type": "markdown",
   "metadata": {},
   "source": [
    "# 概要\n",
    "\n",
    "日本語の改行チェック\n",
    "\n",
    "ああああああああああああああああああああああああああああああああああああああああああああああああああああああああああああああああああああああああああああああああああああああああああああああああああああああああああああああああああああああああああああああああああああ\n",
    "\n",
    "# 背景\n",
    "\n",
    "# 実験\n",
    "\n",
    "# 結果\n",
    "\n",
    "# 今後"
   ]
  },
  {
   "cell_type": "code",
   "execution_count": 1,
   "metadata": {},
   "outputs": [],
   "source": [
    "import pandas as pd\n",
    "import numpy as np\n",
    "import matplotlib.pyplot as plt\n",
    "\n",
    "pd.set_option('display.notebook_repr_html', True)\n",
    "\n",
    "def _repr_latex_(self):\n",
    "    wrap = \"\\\\begin{center}%s \\\\end{center}\"\n",
    "    return wrap % self.to_latex()\n",
    "\n",
    "pd.DataFrame._repr_latex_ = _repr_latex_ # monkey patch pandas DataFrame\n",
    "\n",
    "\n",
    "%matplotlib inline"
   ]
  },
  {
   "cell_type": "code",
   "execution_count": 2,
   "metadata": {},
   "outputs": [
    {
     "data": {
      "text/html": [
       "<div>\n",
       "<style scoped>\n",
       "    .dataframe tbody tr th:only-of-type {\n",
       "        vertical-align: middle;\n",
       "    }\n",
       "\n",
       "    .dataframe tbody tr th {\n",
       "        vertical-align: top;\n",
       "    }\n",
       "\n",
       "    .dataframe thead th {\n",
       "        text-align: right;\n",
       "    }\n",
       "</style>\n",
       "<table border=\"1\" class=\"dataframe\">\n",
       "  <thead>\n",
       "    <tr style=\"text-align: right;\">\n",
       "      <th></th>\n",
       "      <th>x</th>\n",
       "      <th>y</th>\n",
       "    </tr>\n",
       "  </thead>\n",
       "  <tbody>\n",
       "    <tr>\n",
       "      <th>count</th>\n",
       "      <td>40.000000</td>\n",
       "      <td>40.000000</td>\n",
       "    </tr>\n",
       "    <tr>\n",
       "      <th>mean</th>\n",
       "      <td>-0.250000</td>\n",
       "      <td>33.375000</td>\n",
       "    </tr>\n",
       "    <tr>\n",
       "      <th>std</th>\n",
       "      <td>5.845226</td>\n",
       "      <td>30.288199</td>\n",
       "    </tr>\n",
       "    <tr>\n",
       "      <th>min</th>\n",
       "      <td>-10.000000</td>\n",
       "      <td>0.000000</td>\n",
       "    </tr>\n",
       "    <tr>\n",
       "      <th>25%</th>\n",
       "      <td>-5.125000</td>\n",
       "      <td>6.250000</td>\n",
       "    </tr>\n",
       "    <tr>\n",
       "      <th>50%</th>\n",
       "      <td>-0.250000</td>\n",
       "      <td>25.000000</td>\n",
       "    </tr>\n",
       "    <tr>\n",
       "      <th>75%</th>\n",
       "      <td>4.625000</td>\n",
       "      <td>56.250000</td>\n",
       "    </tr>\n",
       "    <tr>\n",
       "      <th>max</th>\n",
       "      <td>9.500000</td>\n",
       "      <td>100.000000</td>\n",
       "    </tr>\n",
       "  </tbody>\n",
       "</table>\n",
       "</div>"
      ],
      "text/latex": [
       "\\begin{center}\\begin{tabular}{lrr}\n",
       "\\toprule\n",
       "{} &          x &           y \\\\\n",
       "\\midrule\n",
       "count &  40.000000 &   40.000000 \\\\\n",
       "mean  &  -0.250000 &   33.375000 \\\\\n",
       "std   &   5.845226 &   30.288199 \\\\\n",
       "min   & -10.000000 &    0.000000 \\\\\n",
       "25\\%   &  -5.125000 &    6.250000 \\\\\n",
       "50\\%   &  -0.250000 &   25.000000 \\\\\n",
       "75\\%   &   4.625000 &   56.250000 \\\\\n",
       "max   &   9.500000 &  100.000000 \\\\\n",
       "\\bottomrule\n",
       "\\end{tabular}\n",
       " \\end{center}"
      ],
      "text/plain": [
       "               x           y\n",
       "count  40.000000   40.000000\n",
       "mean   -0.250000   33.375000\n",
       "std     5.845226   30.288199\n",
       "min   -10.000000    0.000000\n",
       "25%    -5.125000    6.250000\n",
       "50%    -0.250000   25.000000\n",
       "75%     4.625000   56.250000\n",
       "max     9.500000  100.000000"
      ]
     },
     "execution_count": 2,
     "metadata": {},
     "output_type": "execute_result"
    }
   ],
   "source": [
    "X = np.arange(-10, 10, 0.5)\n",
    "\n",
    "def f(X):\n",
    "    return map(lambda x: x**2, X)\n",
    "\n",
    "dat = pd.DataFrame({\n",
    "    \"x\": X,\n",
    "    \"y\": f(X)\n",
    "})\n",
    "dat.describe()"
   ]
  },
  {
   "cell_type": "code",
   "execution_count": 3,
   "metadata": {},
   "outputs": [
    {
     "data": {
      "image/png": "[encoded data removed]",
      "text/plain": [
       "<Figure size 432x288 with 1 Axes>"
      ]
     },
     "metadata": {
      "needs_background": "light"
     },
     "output_type": "display_data"
    }
   ],
   "source": [
    "dat.plot(x=\"x\")\n",
    "plt.title(\"二次関数\")\n",
    "plt.xlabel(\"x軸\")\n",
    "plt.ylabel(\"y軸\");"
   ]
  },
  {
   "cell_type": "code",
   "execution_count": null,
   "metadata": {},
   "outputs": [],
   "source": []
  }
 ],
 "metadata": {
  "authors": [
   {
    "name": "Yuu Ito<web.u.project@gmail.com>"
   }
  ],
  "kernelspec": {
   "display_name": "Python 3",
   "language": "python",
   "name": "python3"
  },
  "language_info": {
   "codemirror_mode": {
    "name": "ipython",
    "version": 3
   },
   "file_extension": ".py",
   "mimetype": "text/x-python",
   "name": "python",
   "nbconvert_exporter": "python",
   "pygments_lexer": "ipython3",
   "version": "3.7.4"
  },
  "title": "サンプルレポートについて"
 },
 "nbformat": 4,
 "nbformat_minor": 2
}
